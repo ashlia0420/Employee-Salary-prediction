{
 "cells": [
  {
   "cell_type": "code",
   "execution_count": 77,
   "id": "591c60da-bc82-4834-8996-a993ea1fcdfe",
   "metadata": {},
   "outputs": [],
   "source": [
    "import pandas as pd\n",
    "data=pd.read_csv(r\"D:\\Course-Internship\\AI- ibmskillbuild\\adult 3.csv\")"
   ]
  },
  {
   "cell_type": "code",
   "execution_count": 79,
   "id": "9b11b127-fd4c-41e3-b7cd-f0b9bbace42d",
   "metadata": {},
   "outputs": [
    {
     "data": {
      "text/html": [
       "<div>\n",
       "<style scoped>\n",
       "    .dataframe tbody tr th:only-of-type {\n",
       "        vertical-align: middle;\n",
       "    }\n",
       "\n",
       "    .dataframe tbody tr th {\n",
       "        vertical-align: top;\n",
       "    }\n",
       "\n",
       "    .dataframe thead th {\n",
       "        text-align: right;\n",
       "    }\n",
       "</style>\n",
       "<table border=\"1\" class=\"dataframe\">\n",
       "  <thead>\n",
       "    <tr style=\"text-align: right;\">\n",
       "      <th></th>\n",
       "      <th>age</th>\n",
       "      <th>workclass</th>\n",
       "      <th>fnlwgt</th>\n",
       "      <th>education</th>\n",
       "      <th>educational-num</th>\n",
       "      <th>marital-status</th>\n",
       "      <th>occupation</th>\n",
       "      <th>relationship</th>\n",
       "      <th>race</th>\n",
       "      <th>gender</th>\n",
       "      <th>capital-gain</th>\n",
       "      <th>capital-loss</th>\n",
       "      <th>hours-per-week</th>\n",
       "      <th>native-country</th>\n",
       "      <th>income</th>\n",
       "    </tr>\n",
       "  </thead>\n",
       "  <tbody>\n",
       "    <tr>\n",
       "      <th>0</th>\n",
       "      <td>25</td>\n",
       "      <td>Private</td>\n",
       "      <td>226802</td>\n",
       "      <td>11th</td>\n",
       "      <td>7</td>\n",
       "      <td>Never-married</td>\n",
       "      <td>Machine-op-inspct</td>\n",
       "      <td>Own-child</td>\n",
       "      <td>Black</td>\n",
       "      <td>Male</td>\n",
       "      <td>0</td>\n",
       "      <td>0</td>\n",
       "      <td>40</td>\n",
       "      <td>United-States</td>\n",
       "      <td>&lt;=50K</td>\n",
       "    </tr>\n",
       "    <tr>\n",
       "      <th>1</th>\n",
       "      <td>38</td>\n",
       "      <td>Private</td>\n",
       "      <td>89814</td>\n",
       "      <td>HS-grad</td>\n",
       "      <td>9</td>\n",
       "      <td>Married-civ-spouse</td>\n",
       "      <td>Farming-fishing</td>\n",
       "      <td>Husband</td>\n",
       "      <td>White</td>\n",
       "      <td>Male</td>\n",
       "      <td>0</td>\n",
       "      <td>0</td>\n",
       "      <td>50</td>\n",
       "      <td>United-States</td>\n",
       "      <td>&lt;=50K</td>\n",
       "    </tr>\n",
       "    <tr>\n",
       "      <th>2</th>\n",
       "      <td>28</td>\n",
       "      <td>Local-gov</td>\n",
       "      <td>336951</td>\n",
       "      <td>Assoc-acdm</td>\n",
       "      <td>12</td>\n",
       "      <td>Married-civ-spouse</td>\n",
       "      <td>Protective-serv</td>\n",
       "      <td>Husband</td>\n",
       "      <td>White</td>\n",
       "      <td>Male</td>\n",
       "      <td>0</td>\n",
       "      <td>0</td>\n",
       "      <td>40</td>\n",
       "      <td>United-States</td>\n",
       "      <td>&gt;50K</td>\n",
       "    </tr>\n",
       "    <tr>\n",
       "      <th>3</th>\n",
       "      <td>44</td>\n",
       "      <td>Private</td>\n",
       "      <td>160323</td>\n",
       "      <td>Some-college</td>\n",
       "      <td>10</td>\n",
       "      <td>Married-civ-spouse</td>\n",
       "      <td>Machine-op-inspct</td>\n",
       "      <td>Husband</td>\n",
       "      <td>Black</td>\n",
       "      <td>Male</td>\n",
       "      <td>7688</td>\n",
       "      <td>0</td>\n",
       "      <td>40</td>\n",
       "      <td>United-States</td>\n",
       "      <td>&gt;50K</td>\n",
       "    </tr>\n",
       "    <tr>\n",
       "      <th>4</th>\n",
       "      <td>18</td>\n",
       "      <td>?</td>\n",
       "      <td>103497</td>\n",
       "      <td>Some-college</td>\n",
       "      <td>10</td>\n",
       "      <td>Never-married</td>\n",
       "      <td>?</td>\n",
       "      <td>Own-child</td>\n",
       "      <td>White</td>\n",
       "      <td>Female</td>\n",
       "      <td>0</td>\n",
       "      <td>0</td>\n",
       "      <td>30</td>\n",
       "      <td>United-States</td>\n",
       "      <td>&lt;=50K</td>\n",
       "    </tr>\n",
       "  </tbody>\n",
       "</table>\n",
       "</div>"
      ],
      "text/plain": [
       "   age  workclass  fnlwgt     education  educational-num      marital-status  \\\n",
       "0   25    Private  226802          11th                7       Never-married   \n",
       "1   38    Private   89814       HS-grad                9  Married-civ-spouse   \n",
       "2   28  Local-gov  336951    Assoc-acdm               12  Married-civ-spouse   \n",
       "3   44    Private  160323  Some-college               10  Married-civ-spouse   \n",
       "4   18          ?  103497  Some-college               10       Never-married   \n",
       "\n",
       "          occupation relationship   race  gender  capital-gain  capital-loss  \\\n",
       "0  Machine-op-inspct    Own-child  Black    Male             0             0   \n",
       "1    Farming-fishing      Husband  White    Male             0             0   \n",
       "2    Protective-serv      Husband  White    Male             0             0   \n",
       "3  Machine-op-inspct      Husband  Black    Male          7688             0   \n",
       "4                  ?    Own-child  White  Female             0             0   \n",
       "\n",
       "   hours-per-week native-country income  \n",
       "0              40  United-States  <=50K  \n",
       "1              50  United-States  <=50K  \n",
       "2              40  United-States   >50K  \n",
       "3              40  United-States   >50K  \n",
       "4              30  United-States  <=50K  "
      ]
     },
     "execution_count": 79,
     "metadata": {},
     "output_type": "execute_result"
    }
   ],
   "source": [
    "data.head()"
   ]
  },
  {
   "cell_type": "code",
   "execution_count": 81,
   "id": "b2451f59-98df-4ab1-a5cb-2ee256932e14",
   "metadata": {},
   "outputs": [
    {
     "name": "stdout",
     "output_type": "stream",
     "text": [
      "workclass\n",
      "Private             33906\n",
      "Self-emp-not-inc     3862\n",
      "Local-gov            3136\n",
      "?                    2799\n",
      "State-gov            1981\n",
      "Self-emp-inc         1695\n",
      "Federal-gov          1432\n",
      "Without-pay            21\n",
      "Never-worked           10\n",
      "Name: count, dtype: int64\n"
     ]
    }
   ],
   "source": [
    "print(data['workclass'].value_counts())"
   ]
  },
  {
   "cell_type": "code",
   "execution_count": 83,
   "id": "3b3dc7ee-68fe-46b3-b2d1-9d7a2fa07804",
   "metadata": {},
   "outputs": [
    {
     "name": "stdout",
     "output_type": "stream",
     "text": [
      "education\n",
      "HS-grad         15784\n",
      "Some-college    10878\n",
      "Bachelors        8025\n",
      "Masters          2657\n",
      "Assoc-voc        2061\n",
      "11th             1812\n",
      "Assoc-acdm       1601\n",
      "10th             1389\n",
      "7th-8th           955\n",
      "Prof-school       834\n",
      "9th               756\n",
      "12th              657\n",
      "Doctorate         594\n",
      "5th-6th           509\n",
      "1st-4th           247\n",
      "Preschool          83\n",
      "Name: count, dtype: int64\n"
     ]
    }
   ],
   "source": [
    "print(data['education'].value_counts())\n"
   ]
  },
  {
   "cell_type": "code",
   "execution_count": 85,
   "id": "73a726cd-09ce-46b5-9a33-73c976fc489c",
   "metadata": {},
   "outputs": [
    {
     "name": "stdout",
     "output_type": "stream",
     "text": [
      "educational-num\n",
      "9     15784\n",
      "10    10878\n",
      "13     8025\n",
      "14     2657\n",
      "11     2061\n",
      "7      1812\n",
      "12     1601\n",
      "6      1389\n",
      "4       955\n",
      "15      834\n",
      "5       756\n",
      "8       657\n",
      "16      594\n",
      "3       509\n",
      "2       247\n",
      "1        83\n",
      "Name: count, dtype: int64\n"
     ]
    }
   ],
   "source": [
    "print(data['educational-num'].value_counts())\n"
   ]
  },
  {
   "cell_type": "code",
   "execution_count": 87,
   "id": "24ee7fd1-ceca-4930-9c2e-ec7de3902a50",
   "metadata": {},
   "outputs": [
    {
     "name": "stdout",
     "output_type": "stream",
     "text": [
      "marital-status\n",
      "Married-civ-spouse       22379\n",
      "Never-married            16117\n",
      "Divorced                  6633\n",
      "Separated                 1530\n",
      "Widowed                   1518\n",
      "Married-spouse-absent      628\n",
      "Married-AF-spouse           37\n",
      "Name: count, dtype: int64\n"
     ]
    }
   ],
   "source": [
    "print(data['marital-status'].value_counts())"
   ]
  },
  {
   "cell_type": "code",
   "execution_count": 89,
   "id": "bf800475-6486-4b8e-b33c-da6bba37896c",
   "metadata": {},
   "outputs": [
    {
     "name": "stdout",
     "output_type": "stream",
     "text": [
      "occupation\n",
      "Prof-specialty       6172\n",
      "Craft-repair         6112\n",
      "Exec-managerial      6086\n",
      "Adm-clerical         5611\n",
      "Sales                5504\n",
      "Other-service        4923\n",
      "Machine-op-inspct    3022\n",
      "?                    2809\n",
      "Transport-moving     2355\n",
      "Handlers-cleaners    2072\n",
      "Farming-fishing      1490\n",
      "Tech-support         1446\n",
      "Protective-serv       983\n",
      "Priv-house-serv       242\n",
      "Armed-Forces           15\n",
      "Name: count, dtype: int64\n"
     ]
    }
   ],
   "source": [
    "print(data['occupation'].value_counts())\n"
   ]
  },
  {
   "cell_type": "code",
   "execution_count": 91,
   "id": "5aa82cf2-2648-4153-b65a-e7d20f328bc0",
   "metadata": {},
   "outputs": [
    {
     "name": "stdout",
     "output_type": "stream",
     "text": [
      "relationship\n",
      "Husband           19716\n",
      "Not-in-family     12583\n",
      "Own-child          7581\n",
      "Unmarried          5125\n",
      "Wife               2331\n",
      "Other-relative     1506\n",
      "Name: count, dtype: int64\n"
     ]
    }
   ],
   "source": [
    "print(data['relationship'].value_counts())"
   ]
  },
  {
   "cell_type": "code",
   "execution_count": 93,
   "id": "4dbd0939-e4bd-4f2a-81ec-85baff7c65b2",
   "metadata": {},
   "outputs": [
    {
     "name": "stdout",
     "output_type": "stream",
     "text": [
      "race\n",
      "White                 41762\n",
      "Black                  4685\n",
      "Asian-Pac-Islander     1519\n",
      "Amer-Indian-Eskimo      470\n",
      "Other                   406\n",
      "Name: count, dtype: int64\n"
     ]
    }
   ],
   "source": [
    "print(data['race'].value_counts())"
   ]
  },
  {
   "cell_type": "code",
   "execution_count": 95,
   "id": "0a0b1110-1f7e-49f6-968c-a3bb1ce015a2",
   "metadata": {},
   "outputs": [
    {
     "name": "stdout",
     "output_type": "stream",
     "text": [
      "gender\n",
      "Male      32650\n",
      "Female    16192\n",
      "Name: count, dtype: int64\n"
     ]
    }
   ],
   "source": [
    "print(data['gender'].value_counts())"
   ]
  },
  {
   "cell_type": "code",
   "execution_count": 97,
   "id": "c2dc4c48-3d34-4514-862c-568e3ba4889b",
   "metadata": {},
   "outputs": [
    {
     "name": "stdout",
     "output_type": "stream",
     "text": [
      "native-country\n",
      "United-States                 43832\n",
      "Mexico                          951\n",
      "?                               857\n",
      "Philippines                     295\n",
      "Germany                         206\n",
      "Puerto-Rico                     184\n",
      "Canada                          182\n",
      "El-Salvador                     155\n",
      "India                           151\n",
      "Cuba                            138\n",
      "England                         127\n",
      "China                           122\n",
      "South                           115\n",
      "Jamaica                         106\n",
      "Italy                           105\n",
      "Dominican-Republic              103\n",
      "Japan                            92\n",
      "Guatemala                        88\n",
      "Poland                           87\n",
      "Vietnam                          86\n",
      "Columbia                         85\n",
      "Haiti                            75\n",
      "Portugal                         67\n",
      "Taiwan                           65\n",
      "Iran                             59\n",
      "Greece                           49\n",
      "Nicaragua                        49\n",
      "Peru                             46\n",
      "Ecuador                          45\n",
      "France                           38\n",
      "Ireland                          37\n",
      "Hong                             30\n",
      "Thailand                         30\n",
      "Cambodia                         28\n",
      "Trinadad&Tobago                  27\n",
      "Laos                             23\n",
      "Yugoslavia                       23\n",
      "Outlying-US(Guam-USVI-etc)       23\n",
      "Scotland                         21\n",
      "Honduras                         20\n",
      "Hungary                          19\n",
      "Holand-Netherlands                1\n",
      "Name: count, dtype: int64\n"
     ]
    }
   ],
   "source": [
    "print(data['native-country'].value_counts())"
   ]
  },
  {
   "cell_type": "code",
   "execution_count": 99,
   "id": "2e98523c-d21a-4b53-aa05-fa3707091491",
   "metadata": {},
   "outputs": [
    {
     "name": "stderr",
     "output_type": "stream",
     "text": [
      "C:\\Users\\LESLIN\\AppData\\Local\\Temp\\ipykernel_34764\\1252048889.py:1: FutureWarning: A value is trying to be set on a copy of a DataFrame or Series through chained assignment using an inplace method.\n",
      "The behavior will change in pandas 3.0. This inplace method will never work because the intermediate object on which we are setting values always behaves as a copy.\n",
      "\n",
      "For example, when doing 'df[col].method(value, inplace=True)', try using 'df.method({col: value}, inplace=True)' or df[col] = df[col].method(value) instead, to perform the operation inplace on the original object.\n",
      "\n",
      "\n",
      "  data.workclass.replace({'?':'Others'},inplace=True)\n",
      "C:\\Users\\LESLIN\\AppData\\Local\\Temp\\ipykernel_34764\\1252048889.py:2: FutureWarning: A value is trying to be set on a copy of a DataFrame or Series through chained assignment using an inplace method.\n",
      "The behavior will change in pandas 3.0. This inplace method will never work because the intermediate object on which we are setting values always behaves as a copy.\n",
      "\n",
      "For example, when doing 'df[col].method(value, inplace=True)', try using 'df.method({col: value}, inplace=True)' or df[col] = df[col].method(value) instead, to perform the operation inplace on the original object.\n",
      "\n",
      "\n",
      "  data.occupation.replace({'?':'Others'},inplace=True)\n",
      "C:\\Users\\LESLIN\\AppData\\Local\\Temp\\ipykernel_34764\\1252048889.py:3: FutureWarning: A value is trying to be set on a copy of a DataFrame or Series through chained assignment using an inplace method.\n",
      "The behavior will change in pandas 3.0. This inplace method will never work because the intermediate object on which we are setting values always behaves as a copy.\n",
      "\n",
      "For example, when doing 'df[col].method(value, inplace=True)', try using 'df.method({col: value}, inplace=True)' or df[col] = df[col].method(value) instead, to perform the operation inplace on the original object.\n",
      "\n",
      "\n",
      "  data['native-country'].replace({'?':'Others'},inplace=True)\n"
     ]
    }
   ],
   "source": [
    "data.workclass.replace({'?':'Others'},inplace=True)\n",
    "data.occupation.replace({'?':'Others'},inplace=True)\n",
    "data['native-country'].replace({'?':'Others'},inplace=True)"
   ]
  },
  {
   "cell_type": "code",
   "execution_count": 101,
   "id": "7f5878f6-bf0d-4148-a85c-7cb330147a0b",
   "metadata": {},
   "outputs": [
    {
     "name": "stdout",
     "output_type": "stream",
     "text": [
      "workclass\n",
      "Private             33906\n",
      "Self-emp-not-inc     3862\n",
      "Local-gov            3136\n",
      "Others               2799\n",
      "State-gov            1981\n",
      "Self-emp-inc         1695\n",
      "Federal-gov          1432\n",
      "Without-pay            21\n",
      "Never-worked           10\n",
      "Name: count, dtype: int64\n"
     ]
    }
   ],
   "source": [
    "print(data['workclass'].value_counts())"
   ]
  },
  {
   "cell_type": "code",
   "execution_count": 103,
   "id": "7a74f569-d47f-4c0e-8c0a-c97ff8c148d5",
   "metadata": {},
   "outputs": [
    {
     "name": "stdout",
     "output_type": "stream",
     "text": [
      "occupation\n",
      "Prof-specialty       6172\n",
      "Craft-repair         6112\n",
      "Exec-managerial      6086\n",
      "Adm-clerical         5611\n",
      "Sales                5504\n",
      "Other-service        4923\n",
      "Machine-op-inspct    3022\n",
      "Others               2809\n",
      "Transport-moving     2355\n",
      "Handlers-cleaners    2072\n",
      "Farming-fishing      1490\n",
      "Tech-support         1446\n",
      "Protective-serv       983\n",
      "Priv-house-serv       242\n",
      "Armed-Forces           15\n",
      "Name: count, dtype: int64\n"
     ]
    }
   ],
   "source": [
    "print(data['occupation'].value_counts())"
   ]
  },
  {
   "cell_type": "code",
   "execution_count": 105,
   "id": "256f1138-27a7-4354-9f63-b62f31925486",
   "metadata": {},
   "outputs": [
    {
     "name": "stdout",
     "output_type": "stream",
     "text": [
      "native-country\n",
      "United-States                 43832\n",
      "Mexico                          951\n",
      "Others                          857\n",
      "Philippines                     295\n",
      "Germany                         206\n",
      "Puerto-Rico                     184\n",
      "Canada                          182\n",
      "El-Salvador                     155\n",
      "India                           151\n",
      "Cuba                            138\n",
      "England                         127\n",
      "China                           122\n",
      "South                           115\n",
      "Jamaica                         106\n",
      "Italy                           105\n",
      "Dominican-Republic              103\n",
      "Japan                            92\n",
      "Guatemala                        88\n",
      "Poland                           87\n",
      "Vietnam                          86\n",
      "Columbia                         85\n",
      "Haiti                            75\n",
      "Portugal                         67\n",
      "Taiwan                           65\n",
      "Iran                             59\n",
      "Greece                           49\n",
      "Nicaragua                        49\n",
      "Peru                             46\n",
      "Ecuador                          45\n",
      "France                           38\n",
      "Ireland                          37\n",
      "Hong                             30\n",
      "Thailand                         30\n",
      "Cambodia                         28\n",
      "Trinadad&Tobago                  27\n",
      "Laos                             23\n",
      "Yugoslavia                       23\n",
      "Outlying-US(Guam-USVI-etc)       23\n",
      "Scotland                         21\n",
      "Honduras                         20\n",
      "Hungary                          19\n",
      "Holand-Netherlands                1\n",
      "Name: count, dtype: int64\n"
     ]
    }
   ],
   "source": [
    "print(data['native-country'].value_counts())"
   ]
  },
  {
   "cell_type": "code",
   "execution_count": 109,
   "id": "51400bf6-e45e-4dbe-8328-d98673d83315",
   "metadata": {},
   "outputs": [],
   "source": [
    "data=data[data['workclass']!='Without-pay']\n",
    "data=data[data['workclass']!='Never-worked']\n",
    "data=data[data['occupation']!='Armed-Forces']\n",
    "data=data[data['education']!='Preschool']\n",
    "data=data[data['native-country']!='Holand-Netherlands']\n"
   ]
  },
  {
   "cell_type": "code",
   "execution_count": 111,
   "id": "ea5e6e01-74b0-4753-8029-71280bf6f2c3",
   "metadata": {},
   "outputs": [
    {
     "data": {
      "text/plain": [
       "(48712, 15)"
      ]
     },
     "execution_count": 111,
     "metadata": {},
     "output_type": "execute_result"
    }
   ],
   "source": [
    "data.shape"
   ]
  },
  {
   "cell_type": "code",
   "execution_count": 137,
   "id": "ca724f3c-9b19-4374-98b2-0705a1c0cf2d",
   "metadata": {},
   "outputs": [],
   "source": [
    "data.drop(columns=['education'],inplace=True)\n",
    "data.drop(columns=['fnlwgt'],inplace=True)"
   ]
  },
  {
   "cell_type": "code",
   "execution_count": 115,
   "id": "09288815-d77d-498e-a66d-6e591e953604",
   "metadata": {},
   "outputs": [
    {
     "data": {
      "image/png": "[encoded data removed]",
      "text/plain": [
       "<Figure size 640x480 with 1 Axes>"
      ]
     },
     "metadata": {},
     "output_type": "display_data"
    }
   ],
   "source": [
    "import matplotlib.pyplot as plt\n",
    "plt.boxplot(data['age'])\n",
    "plt.show()"
   ]
  },
  {
   "cell_type": "code",
   "execution_count": 117,
   "id": "1e28fa04-c7be-4a01-a715-45841a4dd587",
   "metadata": {},
   "outputs": [],
   "source": [
    "data=data[(data['age']<=75)&(data['age']>=15)]"
   ]
  },
  {
   "cell_type": "code",
   "execution_count": 119,
   "id": "258900f0-5f0c-4726-b1ec-20694a39d6ec",
   "metadata": {},
   "outputs": [
    {
     "data": {
      "image/png": "[encoded data removed]",
      "text/plain": [
       "<Figure size 640x480 with 1 Axes>"
      ]
     },
     "metadata": {},
     "output_type": "display_data"
    }
   ],
   "source": [
    "plt.boxplot(data['age'])\n",
    "plt.show()"
   ]
  },
  {
   "cell_type": "code",
   "execution_count": 121,
   "id": "7e948919-54f9-4a11-8b4e-fa722351dea3",
   "metadata": {},
   "outputs": [
    {
     "data": {
      "image/png": "[encoded data removed]",
      "text/plain": [
       "<Figure size 640x480 with 1 Axes>"
      ]
     },
     "metadata": {},
     "output_type": "display_data"
    }
   ],
   "source": [
    "plt.boxplot(data['educational-num'])\n",
    "plt.show()"
   ]
  },
  {
   "cell_type": "code",
   "execution_count": 123,
   "id": "05a605a3-07da-4e05-9ec5-91a40c6a4583",
   "metadata": {},
   "outputs": [],
   "source": [
    "data=data[(data['educational-num']>=5)]"
   ]
  },
  {
   "cell_type": "code",
   "execution_count": 125,
   "id": "6da03460-8fee-4af7-a431-45b61b7e4dac",
   "metadata": {},
   "outputs": [
    {
     "data": {
      "image/png": "[encoded data removed]",
      "text/plain": [
       "<Figure size 640x480 with 1 Axes>"
      ]
     },
     "metadata": {},
     "output_type": "display_data"
    }
   ],
   "source": [
    "plt.boxplot(data['educational-num'])\n",
    "plt.show()"
   ]
  },
  {
   "cell_type": "code",
   "execution_count": 23,
   "id": "8b86016e-cf6d-4296-b882-2b8bbb98976e",
   "metadata": {},
   "outputs": [
    {
     "data": {
      "image/png": "[encoded data removed]",
      "text/plain": [
       "<Figure size 640x480 with 1 Axes>"
      ]
     },
     "metadata": {},
     "output_type": "display_data"
    }
   ],
   "source": [
    "plt.boxplot(data['capital-gain'])\n",
    "plt.show()"
   ]
  },
  {
   "cell_type": "code",
   "execution_count": 24,
   "id": "0fd6dc8f-7596-4d9e-9b0e-1dc8f6205df0",
   "metadata": {},
   "outputs": [
    {
     "data": {
      "text/plain": [
       "(46719, 14)"
      ]
     },
     "execution_count": 24,
     "metadata": {},
     "output_type": "execute_result"
    }
   ],
   "source": [
    "data.shape"
   ]
  },
  {
   "cell_type": "code",
   "execution_count": 139,
   "id": "64fc4580-9a8b-4afc-b9ea-f2603be9dfaf",
   "metadata": {},
   "outputs": [],
   "source": [
    "from sklearn.preprocessing import LabelEncoder\n",
    "encoder=LabelEncoder()\n",
    "data['workclass']=encoder.fit_transform(data['workclass'])\n",
    "data['marital-status']=encoder.fit_transform(data['marital-status'])\n",
    "data['occupation']=encoder.fit_transform(data['occupation'])\n",
    "data['relationship']=encoder.fit_transform(data['relationship'])\n",
    "data['race']=encoder.fit_transform(data['race'])\n",
    "data['gender']=encoder.fit_transform(data['gender'])\n",
    "data['native-country']=encoder.fit_transform(data['native-country'])"
   ]
  },
  {
   "cell_type": "code",
   "execution_count": 141,
   "id": "3922d7af-4fd3-4d2f-94a8-8bcc0b59f98b",
   "metadata": {},
   "outputs": [],
   "source": [
    "x=data.drop(columns=['income'])\n",
    "y=data['income']"
   ]
  },
  {
   "cell_type": "code",
   "execution_count": 143,
   "id": "c1ca69b1-1fa0-4156-a066-c0f960c9a04c",
   "metadata": {},
   "outputs": [
    {
     "data": {
      "text/html": [
       "<div>\n",
       "<style scoped>\n",
       "    .dataframe tbody tr th:only-of-type {\n",
       "        vertical-align: middle;\n",
       "    }\n",
       "\n",
       "    .dataframe tbody tr th {\n",
       "        vertical-align: top;\n",
       "    }\n",
       "\n",
       "    .dataframe thead th {\n",
       "        text-align: right;\n",
       "    }\n",
       "</style>\n",
       "<table border=\"1\" class=\"dataframe\">\n",
       "  <thead>\n",
       "    <tr style=\"text-align: right;\">\n",
       "      <th></th>\n",
       "      <th>age</th>\n",
       "      <th>workclass</th>\n",
       "      <th>educational-num</th>\n",
       "      <th>marital-status</th>\n",
       "      <th>occupation</th>\n",
       "      <th>relationship</th>\n",
       "      <th>race</th>\n",
       "      <th>gender</th>\n",
       "      <th>capital-gain</th>\n",
       "      <th>capital-loss</th>\n",
       "      <th>hours-per-week</th>\n",
       "      <th>native-country</th>\n",
       "    </tr>\n",
       "  </thead>\n",
       "  <tbody>\n",
       "    <tr>\n",
       "      <th>0</th>\n",
       "      <td>25</td>\n",
       "      <td>3</td>\n",
       "      <td>7</td>\n",
       "      <td>4</td>\n",
       "      <td>5</td>\n",
       "      <td>3</td>\n",
       "      <td>2</td>\n",
       "      <td>1</td>\n",
       "      <td>0</td>\n",
       "      <td>0</td>\n",
       "      <td>40</td>\n",
       "      <td>38</td>\n",
       "    </tr>\n",
       "    <tr>\n",
       "      <th>1</th>\n",
       "      <td>38</td>\n",
       "      <td>3</td>\n",
       "      <td>9</td>\n",
       "      <td>2</td>\n",
       "      <td>3</td>\n",
       "      <td>0</td>\n",
       "      <td>4</td>\n",
       "      <td>1</td>\n",
       "      <td>0</td>\n",
       "      <td>0</td>\n",
       "      <td>50</td>\n",
       "      <td>38</td>\n",
       "    </tr>\n",
       "    <tr>\n",
       "      <th>2</th>\n",
       "      <td>28</td>\n",
       "      <td>1</td>\n",
       "      <td>12</td>\n",
       "      <td>2</td>\n",
       "      <td>10</td>\n",
       "      <td>0</td>\n",
       "      <td>4</td>\n",
       "      <td>1</td>\n",
       "      <td>0</td>\n",
       "      <td>0</td>\n",
       "      <td>40</td>\n",
       "      <td>38</td>\n",
       "    </tr>\n",
       "    <tr>\n",
       "      <th>3</th>\n",
       "      <td>44</td>\n",
       "      <td>3</td>\n",
       "      <td>10</td>\n",
       "      <td>2</td>\n",
       "      <td>5</td>\n",
       "      <td>0</td>\n",
       "      <td>2</td>\n",
       "      <td>1</td>\n",
       "      <td>7688</td>\n",
       "      <td>0</td>\n",
       "      <td>40</td>\n",
       "      <td>38</td>\n",
       "    </tr>\n",
       "    <tr>\n",
       "      <th>4</th>\n",
       "      <td>18</td>\n",
       "      <td>2</td>\n",
       "      <td>10</td>\n",
       "      <td>4</td>\n",
       "      <td>7</td>\n",
       "      <td>3</td>\n",
       "      <td>4</td>\n",
       "      <td>0</td>\n",
       "      <td>0</td>\n",
       "      <td>0</td>\n",
       "      <td>30</td>\n",
       "      <td>38</td>\n",
       "    </tr>\n",
       "    <tr>\n",
       "      <th>...</th>\n",
       "      <td>...</td>\n",
       "      <td>...</td>\n",
       "      <td>...</td>\n",
       "      <td>...</td>\n",
       "      <td>...</td>\n",
       "      <td>...</td>\n",
       "      <td>...</td>\n",
       "      <td>...</td>\n",
       "      <td>...</td>\n",
       "      <td>...</td>\n",
       "      <td>...</td>\n",
       "      <td>...</td>\n",
       "    </tr>\n",
       "    <tr>\n",
       "      <th>48837</th>\n",
       "      <td>27</td>\n",
       "      <td>3</td>\n",
       "      <td>12</td>\n",
       "      <td>2</td>\n",
       "      <td>12</td>\n",
       "      <td>5</td>\n",
       "      <td>4</td>\n",
       "      <td>0</td>\n",
       "      <td>0</td>\n",
       "      <td>0</td>\n",
       "      <td>38</td>\n",
       "      <td>38</td>\n",
       "    </tr>\n",
       "    <tr>\n",
       "      <th>48838</th>\n",
       "      <td>40</td>\n",
       "      <td>3</td>\n",
       "      <td>9</td>\n",
       "      <td>2</td>\n",
       "      <td>5</td>\n",
       "      <td>0</td>\n",
       "      <td>4</td>\n",
       "      <td>1</td>\n",
       "      <td>0</td>\n",
       "      <td>0</td>\n",
       "      <td>40</td>\n",
       "      <td>38</td>\n",
       "    </tr>\n",
       "    <tr>\n",
       "      <th>48839</th>\n",
       "      <td>58</td>\n",
       "      <td>3</td>\n",
       "      <td>9</td>\n",
       "      <td>6</td>\n",
       "      <td>0</td>\n",
       "      <td>4</td>\n",
       "      <td>4</td>\n",
       "      <td>0</td>\n",
       "      <td>0</td>\n",
       "      <td>0</td>\n",
       "      <td>40</td>\n",
       "      <td>38</td>\n",
       "    </tr>\n",
       "    <tr>\n",
       "      <th>48840</th>\n",
       "      <td>22</td>\n",
       "      <td>3</td>\n",
       "      <td>9</td>\n",
       "      <td>4</td>\n",
       "      <td>0</td>\n",
       "      <td>3</td>\n",
       "      <td>4</td>\n",
       "      <td>1</td>\n",
       "      <td>0</td>\n",
       "      <td>0</td>\n",
       "      <td>20</td>\n",
       "      <td>38</td>\n",
       "    </tr>\n",
       "    <tr>\n",
       "      <th>48841</th>\n",
       "      <td>52</td>\n",
       "      <td>4</td>\n",
       "      <td>9</td>\n",
       "      <td>2</td>\n",
       "      <td>2</td>\n",
       "      <td>5</td>\n",
       "      <td>4</td>\n",
       "      <td>0</td>\n",
       "      <td>15024</td>\n",
       "      <td>0</td>\n",
       "      <td>40</td>\n",
       "      <td>38</td>\n",
       "    </tr>\n",
       "  </tbody>\n",
       "</table>\n",
       "<p>46704 rows × 12 columns</p>\n",
       "</div>"
      ],
      "text/plain": [
       "       age  workclass  educational-num  marital-status  occupation  \\\n",
       "0       25          3                7               4           5   \n",
       "1       38          3                9               2           3   \n",
       "2       28          1               12               2          10   \n",
       "3       44          3               10               2           5   \n",
       "4       18          2               10               4           7   \n",
       "...    ...        ...              ...             ...         ...   \n",
       "48837   27          3               12               2          12   \n",
       "48838   40          3                9               2           5   \n",
       "48839   58          3                9               6           0   \n",
       "48840   22          3                9               4           0   \n",
       "48841   52          4                9               2           2   \n",
       "\n",
       "       relationship  race  gender  capital-gain  capital-loss  hours-per-week  \\\n",
       "0                 3     2       1             0             0              40   \n",
       "1                 0     4       1             0             0              50   \n",
       "2                 0     4       1             0             0              40   \n",
       "3                 0     2       1          7688             0              40   \n",
       "4                 3     4       0             0             0              30   \n",
       "...             ...   ...     ...           ...           ...             ...   \n",
       "48837             5     4       0             0             0              38   \n",
       "48838             0     4       1             0             0              40   \n",
       "48839             4     4       0             0             0              40   \n",
       "48840             3     4       1             0             0              20   \n",
       "48841             5     4       0         15024             0              40   \n",
       "\n",
       "       native-country  \n",
       "0                  38  \n",
       "1                  38  \n",
       "2                  38  \n",
       "3                  38  \n",
       "4                  38  \n",
       "...               ...  \n",
       "48837              38  \n",
       "48838              38  \n",
       "48839              38  \n",
       "48840              38  \n",
       "48841              38  \n",
       "\n",
       "[46704 rows x 12 columns]"
      ]
     },
     "execution_count": 143,
     "metadata": {},
     "output_type": "execute_result"
    }
   ],
   "source": [
    "x"
   ]
  },
  {
   "cell_type": "code",
   "execution_count": 145,
   "id": "1e346169-1fef-4a38-87e4-ce659fd1fda7",
   "metadata": {},
   "outputs": [
    {
     "data": {
      "text/plain": [
       "0        <=50K\n",
       "1        <=50K\n",
       "2         >50K\n",
       "3         >50K\n",
       "4        <=50K\n",
       "         ...  \n",
       "48837    <=50K\n",
       "48838     >50K\n",
       "48839    <=50K\n",
       "48840    <=50K\n",
       "48841     >50K\n",
       "Name: income, Length: 46704, dtype: object"
      ]
     },
     "execution_count": 145,
     "metadata": {},
     "output_type": "execute_result"
    }
   ],
   "source": [
    "y"
   ]
  },
  {
   "cell_type": "code",
   "execution_count": 147,
   "id": "3dfe8546-d79c-494b-9a48-1483a95774d8",
   "metadata": {},
   "outputs": [],
   "source": [
    "from sklearn.preprocessing import MinMaxScaler\n",
    "scaler=MinMaxScaler()\n",
    "x=scaler.fit_transform(x)"
   ]
  },
  {
   "cell_type": "code",
   "execution_count": 149,
   "id": "1bad4fad-b7e7-40ba-aea4-7dae13de5eb7",
   "metadata": {},
   "outputs": [
    {
     "data": {
      "text/plain": [
       "array([[0.13793103, 0.5       , 0.18181818, ..., 0.        , 0.39795918,\n",
       "        0.95      ],\n",
       "       [0.36206897, 0.5       , 0.36363636, ..., 0.        , 0.5       ,\n",
       "        0.95      ],\n",
       "       [0.18965517, 0.16666667, 0.63636364, ..., 0.        , 0.39795918,\n",
       "        0.95      ],\n",
       "       ...,\n",
       "       [0.70689655, 0.5       , 0.36363636, ..., 0.        , 0.39795918,\n",
       "        0.95      ],\n",
       "       [0.0862069 , 0.5       , 0.36363636, ..., 0.        , 0.19387755,\n",
       "        0.95      ],\n",
       "       [0.60344828, 0.66666667, 0.36363636, ..., 0.        , 0.39795918,\n",
       "        0.95      ]])"
      ]
     },
     "execution_count": 149,
     "metadata": {},
     "output_type": "execute_result"
    }
   ],
   "source": [
    "x"
   ]
  },
  {
   "cell_type": "code",
   "execution_count": 151,
   "id": "cd81af7b-d309-417a-9f92-d208eef4f5b8",
   "metadata": {},
   "outputs": [],
   "source": [
    "from sklearn.model_selection import train_test_split\n",
    "xtrain, xtest, ytrain, ytest=  train_test_split(x,y, test_size= 0.2, random_state=23,stratify=y)"
   ]
  },
  {
   "cell_type": "code",
   "execution_count": 153,
   "id": "62869d84-4ac1-4665-8e74-145230d530b1",
   "metadata": {},
   "outputs": [
    {
     "data": {
      "text/plain": [
       "array([[0.0862069 , 0.5       , 0.36363636, ..., 0.        , 0.15306122,\n",
       "        0.95      ],\n",
       "       [0.10344828, 0.5       , 0.72727273, ..., 0.        , 0.17346939,\n",
       "        0.95      ],\n",
       "       [0.18965517, 0.5       , 0.36363636, ..., 0.        , 0.39795918,\n",
       "        0.95      ],\n",
       "       ...,\n",
       "       [0.10344828, 0.5       , 0.45454545, ..., 0.        , 0.39795918,\n",
       "        0.95      ],\n",
       "       [0.43103448, 1.        , 0.45454545, ..., 0.        , 0.39795918,\n",
       "        0.95      ],\n",
       "       [0.43103448, 0.5       , 0.36363636, ..., 0.        , 0.47959184,\n",
       "        0.95      ]])"
      ]
     },
     "execution_count": 153,
     "metadata": {},
     "output_type": "execute_result"
    }
   ],
   "source": [
    "xtrain"
   ]
  },
  {
   "cell_type": "code",
   "execution_count": 155,
   "id": "afd4d766-40a0-4124-998b-c728659e056f",
   "metadata": {},
   "outputs": [
    {
     "data": {
      "text/plain": [
       "array(['<=50K', '<=50K', '>50K', ..., '<=50K', '<=50K', '<=50K'],\n",
       "      dtype=object)"
      ]
     },
     "execution_count": 155,
     "metadata": {},
     "output_type": "execute_result"
    }
   ],
   "source": [
    "from sklearn.linear_model import LogisticRegression\n",
    "\n",
    "lrr = LogisticRegression()\n",
    "lrr.fit(xtrain, ytrain)\n",
    "predict = lrr.predict(xtest)\n",
    "predict"
   ]
  },
  {
   "cell_type": "code",
   "execution_count": 157,
   "id": "c98ae338-008a-4c2f-b7b4-04d3184090ab",
   "metadata": {},
   "outputs": [
    {
     "data": {
      "text/plain": [
       "0.8208971202226742"
      ]
     },
     "execution_count": 157,
     "metadata": {},
     "output_type": "execute_result"
    }
   ],
   "source": [
    "from sklearn.metrics import accuracy_score\n",
    "accuracy_score(ytest,predict)"
   ]
  },
  {
   "cell_type": "code",
   "execution_count": 159,
   "id": "e90d28e7-b9d9-440e-a6ab-95b895b6b058",
   "metadata": {},
   "outputs": [
    {
     "name": "stdout",
     "output_type": "stream",
     "text": [
      "Accuracy: 0.8208971202226742\n",
      "              precision    recall  f1-score   support\n",
      "\n",
      "       <=50K       0.84      0.94      0.89      7036\n",
      "        >50K       0.72      0.45      0.55      2305\n",
      "\n",
      "    accuracy                           0.82      9341\n",
      "   macro avg       0.78      0.70      0.72      9341\n",
      "weighted avg       0.81      0.82      0.81      9341\n",
      "\n"
     ]
    }
   ],
   "source": [
    "from sklearn.metrics import accuracy_score, classification_report\n",
    "\n",
    "print(\"Accuracy:\", accuracy_score(ytest, predict))\n",
    "print(classification_report(ytest, predict))"
   ]
  },
  {
   "cell_type": "code",
   "execution_count": 161,
   "id": "fd3794db-a69c-46a7-b868-52152b519129",
   "metadata": {},
   "outputs": [
    {
     "name": "stderr",
     "output_type": "stream",
     "text": [
      "C:\\Users\\LESLIN\\AppData\\Local\\Temp\\ipykernel_34764\\239489036.py:8: UserWarning: set_ticklabels() should only be used with a fixed number of ticks, i.e. after set_ticks() or using a FixedLocator.\n",
      "  ax.set_xticklabels(['Male', 'Female'])\n"
     ]
    },
    {
     "data": {
      "image/png": "[encoded data removed]",
      "text/plain": [
       "<Figure size 600x400 with 1 Axes>"
      ]
     },
     "metadata": {},
     "output_type": "display_data"
    }
   ],
   "source": [
    "import seaborn as sns\n",
    "import matplotlib.pyplot as plt\n",
    "\n",
    "plt.figure(figsize=(6, 4))\n",
    "ax = sns.countplot(x='gender', hue='income', data=data)\n",
    "plt.title('Income Distribution by Gender')\n",
    "plt.ylabel('Count')\n",
    "ax.set_xticklabels(['Male', 'Female'])\n",
    "\n",
    "plt.show()\n"
   ]
  },
  {
   "cell_type": "code",
   "execution_count": 163,
   "id": "25879c8d-96fa-43ca-9918-606057cf5c19",
   "metadata": {},
   "outputs": [
    {
     "name": "stdout",
     "output_type": "stream",
     "text": [
      "✅ Saved the model as logistic_model.pkl\n"
     ]
    }
   ],
   "source": [
    "import joblib\n",
    "joblib.dump(lrr, 'logistic_model.pkl')\n",
    "print(\"✅ Saved the model as logistic_model.pkl\")"
   ]
  },
  {
   "cell_type": "code",
   "execution_count": 174,
   "id": "02dac683-d2da-4a17-9d0f-c70bdf2213b9",
   "metadata": {},
   "outputs": [
    {
     "name": "stdout",
     "output_type": "stream",
     "text": [
      "Overwriting app.py\n"
     ]
    }
   ],
   "source": [
    "%%writefile app.py\n",
    "import streamlit as st\n",
    "import pandas as pd\n",
    "import joblib\n",
    "\n",
    "# Load the trained model\n",
    "model = joblib.load(\"logistic_model.pkl\")\n",
    "\n",
    "st.set_page_config(page_title=\"Employee Salary Classification\", page_icon=\"💼\", layout=\"centered\")\n",
    "st.title(\"💼 Employee Salary Classification App\")\n",
    "st.markdown(\"Predict whether an employee earns >50K or ≤50K based on input features.\")\n",
    "\n",
    "# Sidebar inputs\n",
    "age = st.sidebar.slider(\"Age\", 18, 65, 30)\n",
    "\n",
    "workclass = st.sidebar.selectbox(\"Workclass\", [\n",
    "    \"Private\", \"Self-emp-not-inc\", \"Local-gov\", \"Others\", \"State-gov\", \"Self-emp-inc\", \"Federal-gov\"\n",
    "])\n",
    "\n",
    "education = st.sidebar.selectbox(\"Education Level\", [\n",
    "    \"Preschool\", \"1st-4th\", \"5th-6th\", \"7th-8th\", \"9th\", \"10th\", \"11th\", \"12th\",\n",
    "    \"HS-grad\", \"Some-college\", \"Assoc-voc\", \"Assoc-acdm\", \"Bachelors\", \"Masters\",\n",
    "    \"Prof-school\", \"Doctorate\"\n",
    "])\n",
    "\n",
    "marital_status = st.sidebar.selectbox(\"Marital Status\", [\n",
    "    \"Married-civ-spouse\", \"Never-married\", \"Divorced\", \"Separated\", \"Widowed\",\n",
    "    \"Married-spouse-absent\", \"Married-AF-spouse\"\n",
    "])\n",
    "\n",
    "occupation = st.sidebar.selectbox(\"Occupation\", [\n",
    "    \"Prof-specialty\", \"Craft-repair\", \"Exec-managerial\", \"Adm-clerical\", \"Sales\",\n",
    "    \"Other-service\", \"Machine-op-inspct\", \"Others\", \"Transport-moving\",\n",
    "    \"Handlers-cleaners\", \"Farming-fishing\", \"Tech-support\", \"Protective-serv\",\n",
    "    \"Priv-house-serv\", \"Armed-Forces\"\n",
    "])\n",
    "\n",
    "relationship = st.sidebar.selectbox(\"Relationship\", [\n",
    "    \"Husband\", \"Not-in-family\", \"Own-child\", \"Unmarried\", \"Wife\", \"Other-relative\"\n",
    "])\n",
    "\n",
    "race = st.sidebar.selectbox(\"Race\", [\n",
    "    \"White\", \"Black\", \"Asian-Pac-Islander\", \"Amer-Indian-Eskimo\", \"Other\"\n",
    "])\n",
    "\n",
    "gender = st.sidebar.selectbox(\"Gender\", [\"Male\", \"Female\"])\n",
    "\n",
    "capital_gain = st.sidebar.number_input(\"Capital Gain\", 0, 99999, 0)\n",
    "capital_loss = st.sidebar.number_input(\"Capital Loss\", 0, 99999, 0)\n",
    "hours_per_week = st.sidebar.slider(\"Hours per week\", 1, 80, 40)\n",
    "\n",
    "native_country = st.sidebar.selectbox(\"Native Country\", [\n",
    "    \"United-States\", \"Mexico\", \"Others\", \"Philippines\", \"Germany\", \"Puerto-Rico\", \"Canada\",\n",
    "    \"El-Salvador\", \"India\", \"Cuba\", \"England\", \"China\", \"South\", \"Jamaica\", \"Italy\",\n",
    "    \"Dominican-Republic\", \"Japan\", \"Guatemala\", \"Poland\", \"Vietnam\", \"Columbia\",\n",
    "    \"Haiti\", \"Portugal\", \"Taiwan\", \"Iran\", \"Greece\", \"Nicaragua\", \"Peru\", \"Ecuador\",\n",
    "    \"France\", \"Ireland\", \"Thailand\", \"Hong\", \"Cambodia\", \"Trinadad&Tobago\", \"Yugoslavia\",\n",
    "    \"Outlying-US(Guam-USVI-etc)\", \"Laos\", \"Scotland\", \"Honduras\", \"Hungary\"\n",
    "])\n",
    "\n",
    "# Encoding dictionaries (fill these with the numeric codes used in your training)\n",
    "workclass_map = {\n",
    "    \"Private\": 0, \"Self-emp-not-inc\": 1, \"Local-gov\": 2, \"Others\": 3,\n",
    "    \"State-gov\": 4, \"Self-emp-inc\": 5, \"Federal-gov\": 6\n",
    "}\n",
    "\n",
    "education_map = {\n",
    "    \"Preschool\": 1, \"1st-4th\": 2, \"5th-6th\": 3, \"7th-8th\": 4, \"9th\": 5, \"10th\": 6,\n",
    "    \"11th\": 7, \"12th\": 8, \"HS-grad\": 9, \"Some-college\": 10, \"Assoc-voc\": 11,\n",
    "    \"Assoc-acdm\": 12, \"Bachelors\": 13, \"Masters\": 14, \"Prof-school\": 15, \"Doctorate\": 16\n",
    "}\n",
    "\n",
    "marital_status_map = {\n",
    "    \"Married-civ-spouse\": 0, \"Never-married\": 1, \"Divorced\": 2, \"Separated\": 3,\n",
    "    \"Widowed\": 4, \"Married-spouse-absent\": 5, \"Married-AF-spouse\": 6\n",
    "}\n",
    "\n",
    "occupation_map = {\n",
    "    \"Prof-specialty\": 0, \"Craft-repair\": 1, \"Exec-managerial\": 2, \"Adm-clerical\": 3,\n",
    "    \"Sales\": 4, \"Other-service\": 5, \"Machine-op-inspct\": 6, \"Others\": 7, \"Transport-moving\": 8,\n",
    "    \"Handlers-cleaners\": 9, \"Farming-fishing\": 10, \"Tech-support\": 11,\n",
    "    \"Protective-serv\": 12, \"Priv-house-serv\": 13, \"Armed-Forces\": 14\n",
    "}\n",
    "\n",
    "relationship_map = {\n",
    "    \"Husband\": 0, \"Not-in-family\": 1, \"Own-child\": 2, \"Unmarried\": 3,\n",
    "    \"Wife\": 4, \"Other-relative\": 5\n",
    "}\n",
    "\n",
    "race_map = {\n",
    "    \"White\": 0, \"Black\": 1, \"Asian-Pac-Islander\": 2, \"Amer-Indian-Eskimo\": 3, \"Other\": 4\n",
    "}\n",
    "\n",
    "gender_map = {\n",
    "    \"Male\": 0, \"Female\": 1\n",
    "}\n",
    "\n",
    "native_country_map = {\n",
    "    \"United-States\": 0, \"Mexico\": 1, \"Others\": 2, \"Philippines\": 3, \"Germany\": 4,\n",
    "    \"Puerto-Rico\": 5, \"Canada\": 6, \"El-Salvador\": 7, \"India\": 8, \"Cuba\": 9,\n",
    "    \"England\": 10, \"China\": 11, \"South\": 12, \"Jamaica\": 13, \"Italy\": 14,\n",
    "    \"Dominican-Republic\": 15, \"Japan\": 16, \"Guatemala\": 17, \"Poland\": 18,\n",
    "    \"Vietnam\": 19, \"Columbia\": 20, \"Haiti\": 21, \"Portugal\": 22, \"Taiwan\": 23,\n",
    "    \"Iran\": 24, \"Greece\": 25, \"Nicaragua\": 26, \"Peru\": 27, \"Ecuador\": 28,\n",
    "    \"France\": 29, \"Ireland\": 30, \"Thailand\": 31, \"Hong\": 32, \"Cambodia\": 33,\n",
    "    \"Trinadad&Tobago\": 34, \"Yugoslavia\": 35, \"Outlying-US(Guam-USVI-etc)\": 36,\n",
    "    \"Laos\": 37, \"Scotland\": 38, \"Honduras\": 39, \"Hungary\": 40\n",
    "}\n",
    "\n",
    "# Map input values\n",
    "input_data = {\n",
    "    \"age\": age,\n",
    "    \"workclass\": workclass_map.get(workclass, 3),\n",
    "    \"educational-num\": education_map.get(education, 0),\n",
    "    \"marital-status\": marital_status_map.get(marital_status, 3),\n",
    "    \"occupation\": occupation_map.get(occupation, 7),\n",
    "    \"relationship\": relationship_map.get(relationship, 1),\n",
    "    \"race\": race_map.get(race, 4),\n",
    "    \"gender\": gender_map.get(gender, 0),\n",
    "    \"capital-gain\": capital_gain,\n",
    "    \"capital-loss\": capital_loss,\n",
    "    \"hours-per-week\": hours_per_week,\n",
    "    \"native-country\": native_country_map.get(native_country, 2),\n",
    "}\n",
    "\n",
    "input_df = pd.DataFrame([input_data])\n",
    "\n",
    "st.write(\"### 🔎 Input Data\")\n",
    "st.write(input_df)\n",
    "\n",
    "if st.button(\"Predict Salary Class\"):\n",
    "    prediction = model.predict(input_df)\n",
    "    st.success(f\"✅ Prediction: {prediction[0]}\")\n"
   ]
  },
  {
   "cell_type": "code",
   "execution_count": null,
   "id": "d31bc4d0-e277-4819-99e9-8da8e3545c60",
   "metadata": {},
   "outputs": [],
   "source": [
    "!pip install streamlit pyngrok --quiet\n"
   ]
  },
  {
   "cell_type": "code",
   "execution_count": 168,
   "id": "0284773d-80d7-4eb8-af8b-950180b8cab4",
   "metadata": {},
   "outputs": [
    {
     "name": "stdout",
     "output_type": "stream",
     "text": [
      "Authtoken saved to configuration file: C:\\Users\\LESLIN\\AppData\\Local/ngrok/ngrok.yml\n"
     ]
    }
   ],
   "source": [
    "!ngrok authtoken 30FRGXkX1su4mICU61ouSG31TA1_3SMKfYikzJ6C4knVCRG1x"
   ]
  },
  {
   "cell_type": "code",
   "execution_count": 176,
   "id": "4edc8299-18f5-4fef-acda-7f23abf328f3",
   "metadata": {},
   "outputs": [],
   "source": [
    "import os\n",
    "import threading\n",
    "def run_streamlit():\n",
    "    os.system('streamlit run app.py --server.port 8501')\n",
    "\n",
    "thread = threading.Thread(target=run_streamlit)\n",
    "thread.start()"
   ]
  },
  {
   "cell_type": "code",
   "execution_count": 178,
   "id": "bf0198d7-725c-4563-8540-5a91e4b0178b",
   "metadata": {},
   "outputs": [
    {
     "name": "stdout",
     "output_type": "stream",
     "text": [
      "Your Stramlit app is live here, hurry and click mee:  NgrokTunnel: \"https://b27b8de823ff.ngrok-free.app\" -> \"http://localhost:8501\"\n"
     ]
    }
   ],
   "source": [
    "from pyngrok import ngrok\n",
    "import time\n",
    "\n",
    "time.sleep(5)\n",
    "\n",
    "public_url=ngrok.connect(8501)\n",
    "print(\"Your Stramlit app is live here, hurry and click mee: \",public_url)"
   ]
  },
  {
   "cell_type": "code",
   "execution_count": null,
   "id": "cd7f8e57-0a86-4d6f-a99b-97ae17262d74",
   "metadata": {},
   "outputs": [],
   "source": []
  },
  {
   "cell_type": "code",
   "execution_count": null,
   "id": "a0f374b6-6db5-49d9-975d-a15c4e0dea40",
   "metadata": {},
   "outputs": [],
   "source": [
    "from pyngrok import ngrok\n",
    "# Disconnect all active tunnels\n",
    "for tunnel in ngrok.get_tunnels():\n",
    "    ngrok.disconnect(tunnel.public_url)"
   ]
  },
  {
   "cell_type": "code",
   "execution_count": null,
   "id": "72a602da-7ba6-44bf-98cf-f85b9d2628f8",
   "metadata": {},
   "outputs": [],
   "source": []
  }
 ],
 "metadata": {
  "kernelspec": {
   "display_name": "Python 3 (ipykernel)",
   "language": "python",
   "name": "python3"
  },
  "language_info": {
   "codemirror_mode": {
    "name": "ipython",
    "version": 3
   },
   "file_extension": ".py",
   "mimetype": "text/x-python",
   "name": "python",
   "nbconvert_exporter": "python",
   "pygments_lexer": "ipython3",
   "version": "3.12.4"
  }
 },
 "nbformat": 4,
 "nbformat_minor": 5
}
